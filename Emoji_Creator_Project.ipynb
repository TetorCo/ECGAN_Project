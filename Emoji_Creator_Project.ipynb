{
  "cells": [
    {
      "cell_type": "code",
      "execution_count": null,
      "metadata": {
        "id": "eB0wmX1o4ZEN"
      },
      "outputs": [],
      "source": [
        "import tensorflow\n",
        "import keras\n",
        "from keras.layers import Dense, Input, Flatten, Conv2D, Conv2DTranspose, LeakyReLU, ReLU, Dropout, Reshape, BatchNormalization\n",
        "from keras import models\n",
        "from tensorflow.keras.preprocessing import image\n",
        "import os\n",
        "import numpy as np\n",
        "import glob\n",
        "import cv2\n",
        "import matplotlib.pyplot as plt"
      ]
    },
    {
      "cell_type": "markdown",
      "metadata": {
        "id": "gQk9XM69k7kn"
      },
      "source": [
        "# Images Preprocessing\n"
      ]
    },
    {
      "cell_type": "code",
      "execution_count": null,
      "metadata": {
        "id": "svBi-fREk-8m"
      },
      "outputs": [],
      "source": [
        "def remove_transparency(source, bg_color):\n",
        "  source_img = source[:, :, :3]\n",
        "  source_mask = source[:, :, 3] * (1/255.)\n",
        "  source_mask = np.repeat(source_mask[:, :, np.newaxis], 3, axis=2)\n",
        "\n",
        "  bg_mask = 1.0 - source_mask\n",
        "\n",
        "  bg_part = (bg_color * (1/255.0) * (bg_mask))\n",
        "  source_part = (source_img * (1/255.0) * (source_mask))\n",
        "\n",
        "  return np.uint8(cv2.addWeighted(bg_part, 255.0, source_part, 255.0, 0.0))"
      ]
    },
    {
      "cell_type": "code",
      "execution_count": null,
      "metadata": {
        "id": "kgP4YvZllt6X"
      },
      "outputs": [],
      "source": [
        "def get_images(img_dir, height=64, width=64):\n",
        "  img_list = glob.glob(img_dir)\n",
        "  images = []\n",
        "\n",
        "  for img_path in img_list:\n",
        "    img = cv2.imread(img_path, -1)\n",
        "\n",
        "    if img.shape[2] == 4:\n",
        "      img = remove_transparency(img, 255)\n",
        "    \n",
        "    img = cv2.cvtColor(img, cv2.COLOR_BGR2RGB)\n",
        "    img = cv2.resize(img, (height, width))\n",
        "\n",
        "    images.append(img)\n",
        "\n",
        "  images = np.asarray(images) / 255.\n",
        "  return images"
      ]
    },
    {
      "cell_type": "markdown",
      "metadata": {
        "id": "v-AsplLz49BE"
      },
      "source": [
        "# Generator Model"
      ]
    },
    {
      "cell_type": "code",
      "execution_count": null,
      "metadata": {
        "id": "gu20T37k5Elm"
      },
      "outputs": [],
      "source": [
        "latent_dim = 100\n",
        "height = 64\n",
        "width = 64\n",
        "channels = 3\n",
        "img_dir = '/content/drive/MyDrive/ECGAN_Project/total_images/*.png'\n",
        "save_dir = '/content/drive/MyDrive/ECGAN_Project/images_data/Version10'\n",
        "model_version_dir = '/content/drive/MyDrive/ECGAN_Project/model_version/'"
      ]
    },
    {
      "cell_type": "code",
      "execution_count": null,
      "metadata": {
        "id": "8QtXVrzqiYSJ"
      },
      "outputs": [],
      "source": [
        "if not os.path.exists(save_dir): # 저정할 폴더가 없으면 생성해준다.\n",
        "  os.mkdir(save_dir)\n",
        "if not os.path.exists(model_version_dir):\n",
        "  os.mkdir(model_version_dir)"
      ]
    },
    {
      "cell_type": "code",
      "execution_count": null,
      "metadata": {
        "id": "fWMR4w03473d"
      },
      "outputs": [],
      "source": [
        "def generator():\n",
        "  model = models.Sequential()\n",
        "\n",
        "  model.add(Dense(4 * 4 * 1024, input_shape=(latent_dim, )))\n",
        "  model.add(BatchNormalization())\n",
        "  model.add(ReLU())\n",
        "  model.add(Reshape((4, 4, 1024)))\n",
        "\n",
        "  model.add(Conv2DTranspose(512, 5, strides=2, padding='same'))\n",
        "  model.add(BatchNormalization())\n",
        "  model.add(ReLU())\n",
        "  \n",
        "  model.add(Conv2DTranspose(256, 5, strides=2, padding='same'))\n",
        "  model.add(BatchNormalization())\n",
        "  model.add(ReLU())\n",
        "\n",
        "  model.add(Conv2DTranspose(128, 5, strides=2, padding='same'))\n",
        "  model.add(BatchNormalization())\n",
        "  model.add(ReLU())\n",
        "\n",
        "  model.add(Conv2DTranspose(64, 5, strides=2, padding='same'))\n",
        "  model.add(BatchNormalization())\n",
        "  model.add(ReLU())\n",
        "\n",
        "  model.add(Conv2D(channels, 7, activation='tanh', padding='same'))\n",
        "\n",
        "  return model"
      ]
    },
    {
      "cell_type": "code",
      "execution_count": null,
      "metadata": {
        "colab": {
          "base_uri": "https://localhost:8080/"
        },
        "id": "LdHd12J6C6WR",
        "outputId": "ac971944-b718-4070-99dd-1d88e77096d7"
      },
      "outputs": [
        {
          "name": "stdout",
          "output_type": "stream",
          "text": [
            "Model: \"sequential\"\n",
            "_________________________________________________________________\n",
            " Layer (type)                Output Shape              Param #   \n",
            "=================================================================\n",
            " dense (Dense)               (None, 16384)             1654784   \n",
            "                                                                 \n",
            " batch_normalization (BatchN  (None, 16384)            65536     \n",
            " ormalization)                                                   \n",
            "                                                                 \n",
            " re_lu (ReLU)                (None, 16384)             0         \n",
            "                                                                 \n",
            " reshape (Reshape)           (None, 4, 4, 1024)        0         \n",
            "                                                                 \n",
            " conv2d_transpose (Conv2DTra  (None, 8, 8, 512)        13107712  \n",
            " nspose)                                                         \n",
            "                                                                 \n",
            " batch_normalization_1 (Batc  (None, 8, 8, 512)        2048      \n",
            " hNormalization)                                                 \n",
            "                                                                 \n",
            " re_lu_1 (ReLU)              (None, 8, 8, 512)         0         \n",
            "                                                                 \n",
            " conv2d_transpose_1 (Conv2DT  (None, 16, 16, 256)      3277056   \n",
            " ranspose)                                                       \n",
            "                                                                 \n",
            " batch_normalization_2 (Batc  (None, 16, 16, 256)      1024      \n",
            " hNormalization)                                                 \n",
            "                                                                 \n",
            " re_lu_2 (ReLU)              (None, 16, 16, 256)       0         \n",
            "                                                                 \n",
            " conv2d_transpose_2 (Conv2DT  (None, 32, 32, 128)      819328    \n",
            " ranspose)                                                       \n",
            "                                                                 \n",
            " batch_normalization_3 (Batc  (None, 32, 32, 128)      512       \n",
            " hNormalization)                                                 \n",
            "                                                                 \n",
            " re_lu_3 (ReLU)              (None, 32, 32, 128)       0         \n",
            "                                                                 \n",
            " conv2d_transpose_3 (Conv2DT  (None, 64, 64, 64)       204864    \n",
            " ranspose)                                                       \n",
            "                                                                 \n",
            " batch_normalization_4 (Batc  (None, 64, 64, 64)       256       \n",
            " hNormalization)                                                 \n",
            "                                                                 \n",
            " re_lu_4 (ReLU)              (None, 64, 64, 64)        0         \n",
            "                                                                 \n",
            " conv2d (Conv2D)             (None, 64, 64, 3)         9411      \n",
            "                                                                 \n",
            "=================================================================\n",
            "Total params: 19,142,531\n",
            "Trainable params: 19,107,843\n",
            "Non-trainable params: 34,688\n",
            "_________________________________________________________________\n"
          ]
        }
      ],
      "source": [
        "G = generator()\n",
        "G.summary()"
      ]
    },
    {
      "cell_type": "markdown",
      "metadata": {
        "id": "Du6wMqklDy07"
      },
      "source": [
        "# Discriminator Model"
      ]
    },
    {
      "cell_type": "code",
      "execution_count": null,
      "metadata": {
        "id": "fDHRyZcgjGSr"
      },
      "outputs": [],
      "source": [
        "### Set Hyperparameters Here\n",
        "iter = 50000\n",
        "batch_size = 64\n",
        "lr_d = 0.00002  # discriminator learning rate\n",
        "lr_g = 0.0008  # generator learning rate"
      ]
    },
    {
      "cell_type": "code",
      "execution_count": null,
      "metadata": {
        "id": "yJxWonlXD1qk"
      },
      "outputs": [],
      "source": [
        "def discriminator(lr=lr_d):\n",
        "  model = models.Sequential()\n",
        "\n",
        "  model.add(Conv2D(64, 3, input_shape=(64, 64, 3), padding='same'))\n",
        "  model.add(LeakyReLU(0.2))\n",
        "\n",
        "  model.add(Conv2D(64, 4, strides=2, padding='same'))\n",
        "  model.add(LeakyReLU(0.2))\n",
        "\n",
        "  model.add(Conv2D(128, 4, strides=2, padding='same'))\n",
        "  model.add(LeakyReLU(0.2))\n",
        "  \n",
        "  model.add(Conv2D(128, 4, strides=2, padding='same'))\n",
        "  model.add(LeakyReLU(0.2))\n",
        "\n",
        "  model.add(Conv2D(256, 4, strides=2, padding='same'))\n",
        "  model.add(LeakyReLU(0.2))\n",
        "\n",
        "  model.add(Conv2D(512, 4, strides=2, padding='same'))\n",
        "  model.add(LeakyReLU(0.2))\n",
        "\n",
        "  model.add(Flatten())\n",
        "  model.add(Dropout(0.4))\n",
        "\n",
        "  model.add(Dense(1, activation='sigmoid'))\n",
        "\n",
        "  model_optimizer = tensorflow.keras.optimizers.RMSprop(learning_rate=lr, clipvalue=1.0, decay=1e-8)\n",
        "  model.compile(optimizer=model_optimizer, loss='binary_crossentropy')\n",
        "\n",
        "  return model"
      ]
    },
    {
      "cell_type": "code",
      "execution_count": null,
      "metadata": {
        "colab": {
          "base_uri": "https://localhost:8080/"
        },
        "id": "dhmD26Z8m4qD",
        "outputId": "671b494f-fa6d-471e-d062-6e465e20ea42"
      },
      "outputs": [
        {
          "name": "stdout",
          "output_type": "stream",
          "text": [
            "Model: \"sequential_2\"\n",
            "_________________________________________________________________\n",
            " Layer (type)                Output Shape              Param #   \n",
            "=================================================================\n",
            " conv2d_7 (Conv2D)           (None, 64, 64, 64)        1792      \n",
            "                                                                 \n",
            " leaky_re_lu_6 (LeakyReLU)   (None, 64, 64, 64)        0         \n",
            "                                                                 \n",
            " conv2d_8 (Conv2D)           (None, 32, 32, 64)        65600     \n",
            "                                                                 \n",
            " leaky_re_lu_7 (LeakyReLU)   (None, 32, 32, 64)        0         \n",
            "                                                                 \n",
            " conv2d_9 (Conv2D)           (None, 16, 16, 128)       131200    \n",
            "                                                                 \n",
            " leaky_re_lu_8 (LeakyReLU)   (None, 16, 16, 128)       0         \n",
            "                                                                 \n",
            " conv2d_10 (Conv2D)          (None, 8, 8, 128)         262272    \n",
            "                                                                 \n",
            " leaky_re_lu_9 (LeakyReLU)   (None, 8, 8, 128)         0         \n",
            "                                                                 \n",
            " conv2d_11 (Conv2D)          (None, 4, 4, 256)         524544    \n",
            "                                                                 \n",
            " leaky_re_lu_10 (LeakyReLU)  (None, 4, 4, 256)         0         \n",
            "                                                                 \n",
            " conv2d_12 (Conv2D)          (None, 2, 2, 512)         2097664   \n",
            "                                                                 \n",
            " leaky_re_lu_11 (LeakyReLU)  (None, 2, 2, 512)         0         \n",
            "                                                                 \n",
            " flatten_1 (Flatten)         (None, 2048)              0         \n",
            "                                                                 \n",
            " dropout_1 (Dropout)         (None, 2048)              0         \n",
            "                                                                 \n",
            " dense_2 (Dense)             (None, 1)                 2049      \n",
            "                                                                 \n",
            "=================================================================\n",
            "Total params: 3,085,121\n",
            "Trainable params: 3,085,121\n",
            "Non-trainable params: 0\n",
            "_________________________________________________________________\n"
          ]
        }
      ],
      "source": [
        "D = discriminator()\n",
        "D.summary()"
      ]
    },
    {
      "cell_type": "markdown",
      "metadata": {
        "id": "FGT_Xsj6pIBb"
      },
      "source": [
        "# GAN Build"
      ]
    },
    {
      "cell_type": "code",
      "execution_count": null,
      "metadata": {
        "id": "lcY--ezhpLta"
      },
      "outputs": [],
      "source": [
        "def gan_build(latent_dim, generator, discriminator, lr=lr_g, decay=1e-8):\n",
        "  discriminator.trainable = False # 판별자 동결\n",
        "\n",
        "  gan_input = Input(shape=(latent_dim, ))\n",
        "  gan_output = discriminator(generator(gan_input))\n",
        "\n",
        "  gan = models.Model(gan_input, gan_output)\n",
        "\n",
        "  gan_optimizer = tensorflow.keras.optimizers.RMSprop(learning_rate=lr, decay=decay, clipvalue=1.0)\n",
        "  gan.compile(optimizer=gan_optimizer, loss='binary_crossentropy')\n",
        "\n",
        "  return gan"
      ]
    },
    {
      "cell_type": "markdown",
      "metadata": {
        "id": "Lm2pfr2fgVKo"
      },
      "source": [
        "## save data"
      ]
    },
    {
      "cell_type": "code",
      "execution_count": null,
      "metadata": {
        "id": "gmR136SlgXzr"
      },
      "outputs": [],
      "source": [
        "def save_data(step, generator_img, real_img, save_dir):\n",
        "  img = image.array_to_img(generator_img[0] * 255., scale=False)\n",
        "  img.save(os.path.join(save_dir, 'generator_img' + str(step) + '.png'))\n",
        "\n",
        "  img = image.array_to_img(real_img[0] * 255., scale=False)\n",
        "  img.save(os.path.join(save_dir, 'real_img' + str(step) + '.png'))"
      ]
    },
    {
      "cell_type": "markdown",
      "metadata": {
        "id": "15qyOMPHw6qq"
      },
      "source": [
        "# DCGAN 구현"
      ]
    },
    {
      "cell_type": "markdown",
      "metadata": {
        "id": "M5wdslq9w9qQ"
      },
      "source": [
        "* 매 반복마다 아래의 과정 수행\n",
        "    \n",
        "      1. 잠재 공간에서 무작위로 포인트를 뽑음(랜덤 노이즈)\n",
        "      2. 랜덤 노이즈를 사용하여 generator에서 이미지를 생성\n",
        "      3. 생성된 이미지와 진짜 이미지를 섞음\n",
        "      4. 진짜와 가짜가 섞인 이미지와 이에 대응하는 타깃을 사용하여 discriminator를 훈련\n",
        "      5. 잠재 공간에서 무작위로 새로운 포인터를 뽑음\n",
        "      6. 랜덤 벡터를 사용하여 gan을 훈련\n",
        "         모든 타깃은 진짜로 설정\n",
        "         \n",
        "         판별자가 생성된 이미지를 모두 \"진짜 이미지\"라고 예측하도록 생성자의 가중치를 업데이트.(판별자는 동결되기 때문에 생성자만 업데이트)"
      ]
    },
    {
      "cell_type": "code",
      "execution_count": null,
      "metadata": {
        "id": "P6ZQAdM7w8gG"
      },
      "outputs": [],
      "source": [
        "def train_gan(discriminator, generator, gan, X_train, iter, batch_size=32, save_iter=100,\n",
        "              save_weights=False, save_dir=None):\n",
        "  for step in range(iter):\n",
        "    \"\"\"무작위로 추출한 랜덤 벡터를 generator에 학습시켜서 가짜 이미지를 만든다.\"\"\"\n",
        "    random_latent_vector = np.random.normal(size=(batch_size, latent_dim))\n",
        "    generator_img = generator.predict(random_latent_vector) # 가짜 이미지\n",
        "\n",
        "    real_img_idx = np.random.randint(0, X_train.shape[0], batch_size)\n",
        "    real_img = X_train[real_img_idx]\n",
        "    combined_img = np.concatenate([generator_img, real_img])\n",
        "\n",
        "    \"\"\"진짜와 가짜 이미지를 구별하기 위해서 labels 추가\"\"\"\n",
        "    labels = np.concatenate([np.ones((batch_size, 1)),\n",
        "                             np.zeros((batch_size, 1))])\n",
        "    \"\"\"랜덤 노이즈 추가\"\"\"\n",
        "    labels += 0.05 * np.random.random(labels.shape)\n",
        "\n",
        "    D_loss = discriminator.train_on_batch(combined_img, labels)\n",
        "\n",
        "    random_latent_vector = np.random.normal(size=(batch_size, latent_dim))\n",
        "\n",
        "    misleading_targets = np.zeros((batch_size, 1))\n",
        "    gan_loss = gan.train_on_batch(random_latent_vector, misleading_targets)\n",
        "\n",
        "    if step % save_iter == 0:\n",
        "      print(f'Step: {step}')\n",
        "      print(f'Discriminator loss: {D_loss}')\n",
        "      print(f'Adverasrial(GAN) loss: {gan_loss}')\n",
        "\n",
        "      if save_dir is not None:\n",
        "        save_data(step, generator_img, real_img, save_dir)"
      ]
    },
    {
      "cell_type": "code",
      "execution_count": null,
      "metadata": {
        "id": "bMXpD8XFkoEL"
      },
      "outputs": [],
      "source": [
        "### Load data and initialize models.\n",
        "X_train = get_images(img_dir)\n",
        "D = discriminator()\n",
        "G = generator()\n",
        "gan = gan_build(latent_dim, G, D)"
      ]
    },
    {
      "cell_type": "code",
      "execution_count": null,
      "metadata": {
        "colab": {
          "base_uri": "https://localhost:8080/"
        },
        "id": "5S0meij9m128",
        "outputId": "1006c1bc-4ab8-4df8-8ccd-6d82830f25f2"
      },
      "outputs": [
        {
          "name": "stdout",
          "output_type": "stream",
          "text": [
            "Step: 0\n",
            "Discriminator loss: 0.6858662366867065\n",
            "Adverasrial(GAN) loss: 0.6732268333435059\n",
            "Step: 100\n",
            "Discriminator loss: 0.6394087076187134\n",
            "Adverasrial(GAN) loss: 0.40733084082603455\n",
            "Step: 200\n",
            "Discriminator loss: 1.194195032119751\n",
            "Adverasrial(GAN) loss: 0.11124766618013382\n",
            "Step: 300\n",
            "Discriminator loss: 0.49199432134628296\n",
            "Adverasrial(GAN) loss: 0.07686552405357361\n",
            "Step: 400\n",
            "Discriminator loss: 0.6925835609436035\n",
            "Adverasrial(GAN) loss: 0.7518863677978516\n",
            "Step: 500\n",
            "Discriminator loss: 0.7736015915870667\n",
            "Adverasrial(GAN) loss: 0.4412071406841278\n",
            "Step: 600\n",
            "Discriminator loss: 1.0405266284942627\n",
            "Adverasrial(GAN) loss: 0.23011337220668793\n",
            "Step: 700\n",
            "Discriminator loss: 0.8397690057754517\n",
            "Adverasrial(GAN) loss: 0.5059860944747925\n",
            "Step: 800\n",
            "Discriminator loss: 0.5179222226142883\n",
            "Adverasrial(GAN) loss: 0.026382163166999817\n",
            "Step: 900\n",
            "Discriminator loss: 0.8187891840934753\n",
            "Adverasrial(GAN) loss: 0.5384200811386108\n",
            "Step: 1000\n",
            "Discriminator loss: 0.9600447416305542\n",
            "Adverasrial(GAN) loss: 0.9889331459999084\n",
            "Step: 1100\n",
            "Discriminator loss: 0.13389849662780762\n",
            "Adverasrial(GAN) loss: 0.0002685942454263568\n",
            "Step: 1200\n",
            "Discriminator loss: 0.554031491279602\n",
            "Adverasrial(GAN) loss: 0.06103677302598953\n",
            "Step: 1300\n",
            "Discriminator loss: 0.45339906215667725\n",
            "Adverasrial(GAN) loss: 0.044838301837444305\n",
            "Step: 1400\n",
            "Discriminator loss: 0.5459548234939575\n",
            "Adverasrial(GAN) loss: 0.009369871579110622\n",
            "Step: 1500\n",
            "Discriminator loss: 0.5710498094558716\n",
            "Adverasrial(GAN) loss: 0.937341570854187\n",
            "Step: 1600\n",
            "Discriminator loss: 1.096402645111084\n",
            "Adverasrial(GAN) loss: 0.4512830376625061\n",
            "Step: 1700\n",
            "Discriminator loss: 0.9589821100234985\n",
            "Adverasrial(GAN) loss: 1.0890977382659912\n",
            "Step: 1800\n",
            "Discriminator loss: 0.6282854676246643\n",
            "Adverasrial(GAN) loss: 0.013337554410099983\n",
            "Step: 1900\n",
            "Discriminator loss: 0.6616734266281128\n",
            "Adverasrial(GAN) loss: 0.3350461721420288\n",
            "Step: 2000\n",
            "Discriminator loss: 0.7699404954910278\n",
            "Adverasrial(GAN) loss: 1.0076947212219238\n",
            "Step: 2100\n",
            "Discriminator loss: 0.945400595664978\n",
            "Adverasrial(GAN) loss: 0.07328906655311584\n",
            "Step: 2200\n",
            "Discriminator loss: 0.5287578105926514\n",
            "Adverasrial(GAN) loss: 0.9729489088058472\n",
            "Step: 2300\n",
            "Discriminator loss: 0.4691457152366638\n",
            "Adverasrial(GAN) loss: 0.1008681207895279\n",
            "Step: 2400\n",
            "Discriminator loss: 0.16855649650096893\n",
            "Adverasrial(GAN) loss: 2.7455673217773438\n",
            "Step: 2500\n",
            "Discriminator loss: 0.43765944242477417\n",
            "Adverasrial(GAN) loss: 0.09183649718761444\n",
            "Step: 2600\n",
            "Discriminator loss: 0.17356698215007782\n",
            "Adverasrial(GAN) loss: 2.388740301132202\n",
            "Step: 2700\n",
            "Discriminator loss: 0.6870733499526978\n",
            "Adverasrial(GAN) loss: 0.05872269719839096\n",
            "Step: 2800\n",
            "Discriminator loss: 0.9135600328445435\n",
            "Adverasrial(GAN) loss: 0.04843805730342865\n",
            "Step: 2900\n",
            "Discriminator loss: 0.12114381045103073\n",
            "Adverasrial(GAN) loss: 0.4167330265045166\n",
            "Step: 3000\n",
            "Discriminator loss: 1.2529268264770508\n",
            "Adverasrial(GAN) loss: 3.2495312690734863\n",
            "Step: 3100\n",
            "Discriminator loss: 0.8801714181900024\n",
            "Adverasrial(GAN) loss: 0.6985547542572021\n",
            "Step: 3200\n",
            "Discriminator loss: 0.06986309587955475\n",
            "Adverasrial(GAN) loss: 0.3387693762779236\n",
            "Step: 3300\n",
            "Discriminator loss: 0.1077796071767807\n",
            "Adverasrial(GAN) loss: 2.3529608249664307\n",
            "Step: 3400\n",
            "Discriminator loss: 0.7635160088539124\n",
            "Adverasrial(GAN) loss: 0.11974485963582993\n",
            "Step: 3500\n",
            "Discriminator loss: 0.06257994472980499\n",
            "Adverasrial(GAN) loss: 0.4935797452926636\n",
            "Step: 3600\n",
            "Discriminator loss: 0.7934043407440186\n",
            "Adverasrial(GAN) loss: 0.7649036645889282\n",
            "Step: 3700\n",
            "Discriminator loss: 0.8878008127212524\n",
            "Adverasrial(GAN) loss: 0.24731895327568054\n",
            "Step: 3800\n",
            "Discriminator loss: 0.9082714319229126\n",
            "Adverasrial(GAN) loss: 0.5016462802886963\n",
            "Step: 3900\n",
            "Discriminator loss: 0.90505051612854\n",
            "Adverasrial(GAN) loss: 0.2963497042655945\n",
            "Step: 4000\n",
            "Discriminator loss: 0.13954642415046692\n",
            "Adverasrial(GAN) loss: 0.19515016674995422\n",
            "Step: 4100\n",
            "Discriminator loss: -0.021338440477848053\n",
            "Adverasrial(GAN) loss: 3.63047194480896\n",
            "Step: 4200\n",
            "Discriminator loss: 0.4514113664627075\n",
            "Adverasrial(GAN) loss: 0.0551433339715004\n",
            "Step: 4300\n",
            "Discriminator loss: 0.825417160987854\n",
            "Adverasrial(GAN) loss: 0.314142644405365\n",
            "Step: 4400\n",
            "Discriminator loss: 0.7051613330841064\n",
            "Adverasrial(GAN) loss: 0.2403831034898758\n",
            "Step: 4500\n",
            "Discriminator loss: 0.6700488924980164\n",
            "Adverasrial(GAN) loss: 0.5148131847381592\n",
            "Step: 4600\n",
            "Discriminator loss: 0.6795370578765869\n",
            "Adverasrial(GAN) loss: 0.013275938108563423\n",
            "Step: 4700\n",
            "Discriminator loss: 0.23114937543869019\n",
            "Adverasrial(GAN) loss: 0.0009682794916443527\n",
            "Step: 4800\n",
            "Discriminator loss: 0.19343827664852142\n",
            "Adverasrial(GAN) loss: 2.686635980353458e-06\n",
            "Step: 4900\n",
            "Discriminator loss: 0.23817940056324005\n",
            "Adverasrial(GAN) loss: 0.0909975916147232\n",
            "Step: 5000\n",
            "Discriminator loss: 0.591605007648468\n",
            "Adverasrial(GAN) loss: 0.5808788537979126\n",
            "Step: 5100\n",
            "Discriminator loss: -0.02506045252084732\n",
            "Adverasrial(GAN) loss: 2.5752062704498258e-09\n",
            "Step: 5200\n",
            "Discriminator loss: 0.45203202962875366\n",
            "Adverasrial(GAN) loss: 0.20430201292037964\n",
            "Step: 5300\n",
            "Discriminator loss: 0.9623128175735474\n",
            "Adverasrial(GAN) loss: 0.07707066833972931\n",
            "Step: 5400\n",
            "Discriminator loss: 0.41155269742012024\n",
            "Adverasrial(GAN) loss: 0.5315909385681152\n",
            "Step: 5500\n",
            "Discriminator loss: 0.2586579918861389\n",
            "Adverasrial(GAN) loss: 0.003492534626275301\n",
            "Step: 5600\n",
            "Discriminator loss: 0.38424819707870483\n",
            "Adverasrial(GAN) loss: 0.07665912061929703\n",
            "Step: 5700\n",
            "Discriminator loss: 0.3714008033275604\n",
            "Adverasrial(GAN) loss: 8.561345748603344e-05\n",
            "Step: 5800\n",
            "Discriminator loss: 1.1534894704818726\n",
            "Adverasrial(GAN) loss: 0.00749847199767828\n",
            "Step: 5900\n",
            "Discriminator loss: 0.14069196581840515\n",
            "Adverasrial(GAN) loss: 0.2752281427383423\n",
            "Step: 6000\n",
            "Discriminator loss: 0.5792813301086426\n",
            "Adverasrial(GAN) loss: 0.024156395345926285\n",
            "Step: 6100\n",
            "Discriminator loss: 0.5028699636459351\n",
            "Adverasrial(GAN) loss: 0.0003222638333681971\n",
            "Step: 6200\n",
            "Discriminator loss: -0.017705366015434265\n",
            "Adverasrial(GAN) loss: 1.9698308051374624e-07\n",
            "Step: 6300\n",
            "Discriminator loss: 0.46056056022644043\n",
            "Adverasrial(GAN) loss: 0.00011188948701601475\n",
            "Step: 6400\n",
            "Discriminator loss: -0.011595357209444046\n",
            "Adverasrial(GAN) loss: 2.363025665283203\n",
            "Step: 6500\n",
            "Discriminator loss: 0.706472635269165\n",
            "Adverasrial(GAN) loss: 0.0800330638885498\n",
            "Step: 6600\n",
            "Discriminator loss: 0.8727061748504639\n",
            "Adverasrial(GAN) loss: 0.9338241219520569\n",
            "Step: 6700\n",
            "Discriminator loss: 0.3987135887145996\n",
            "Adverasrial(GAN) loss: 0.24906644225120544\n",
            "Step: 6800\n",
            "Discriminator loss: 0.12702558934688568\n",
            "Adverasrial(GAN) loss: 0.10844364017248154\n",
            "Step: 6900\n",
            "Discriminator loss: 0.10029088705778122\n",
            "Adverasrial(GAN) loss: 0.02118292823433876\n",
            "Step: 7000\n",
            "Discriminator loss: 0.3501548171043396\n",
            "Adverasrial(GAN) loss: 0.00015586952213197947\n",
            "Step: 7100\n",
            "Discriminator loss: 0.5403715968132019\n",
            "Adverasrial(GAN) loss: 0.00821579061448574\n",
            "Step: 7200\n",
            "Discriminator loss: 0.06742922961711884\n",
            "Adverasrial(GAN) loss: 3.0527186393737793\n",
            "Step: 7300\n",
            "Discriminator loss: 0.12001033872365952\n",
            "Adverasrial(GAN) loss: 0.026493292301893234\n",
            "Step: 7400\n",
            "Discriminator loss: 0.6655027866363525\n",
            "Adverasrial(GAN) loss: 0.10510502755641937\n",
            "Step: 7500\n",
            "Discriminator loss: 0.44692713022232056\n",
            "Adverasrial(GAN) loss: 0.2318277209997177\n",
            "Step: 7600\n",
            "Discriminator loss: 0.3893573582172394\n",
            "Adverasrial(GAN) loss: 0.029138773679733276\n",
            "Step: 7700\n",
            "Discriminator loss: 0.17107577621936798\n",
            "Adverasrial(GAN) loss: 1.7685792446136475\n",
            "Step: 7800\n",
            "Discriminator loss: 0.3486746549606323\n",
            "Adverasrial(GAN) loss: 0.2194913923740387\n",
            "Step: 7900\n",
            "Discriminator loss: 0.49164295196533203\n",
            "Adverasrial(GAN) loss: 0.00030228600371629\n",
            "Step: 8000\n",
            "Discriminator loss: 0.6869295835494995\n",
            "Adverasrial(GAN) loss: 0.013948135077953339\n",
            "Step: 8100\n",
            "Discriminator loss: 0.23639726638793945\n",
            "Adverasrial(GAN) loss: 0.020877929404377937\n",
            "Step: 8200\n",
            "Discriminator loss: 0.5868604183197021\n",
            "Adverasrial(GAN) loss: 0.7722352743148804\n",
            "Step: 8300\n",
            "Discriminator loss: 1.0605661869049072\n",
            "Adverasrial(GAN) loss: 1.6575430631637573\n",
            "Step: 8400\n",
            "Discriminator loss: 0.04670875519514084\n",
            "Adverasrial(GAN) loss: 0.011056146584451199\n",
            "Step: 8500\n",
            "Discriminator loss: 0.15421153604984283\n",
            "Adverasrial(GAN) loss: 0.8172856569290161\n",
            "Step: 8600\n",
            "Discriminator loss: 0.6015242338180542\n",
            "Adverasrial(GAN) loss: 0.26878052949905396\n",
            "Step: 8700\n",
            "Discriminator loss: 1.1405813694000244\n",
            "Adverasrial(GAN) loss: 0.13282501697540283\n",
            "Step: 8800\n",
            "Discriminator loss: 2.3055577278137207\n",
            "Adverasrial(GAN) loss: 0.6663566827774048\n",
            "Step: 8900\n",
            "Discriminator loss: 0.3532080054283142\n",
            "Adverasrial(GAN) loss: 0.33568641543388367\n",
            "Step: 9000\n",
            "Discriminator loss: 0.22262194752693176\n",
            "Adverasrial(GAN) loss: 2.5391087532043457\n",
            "Step: 9100\n",
            "Discriminator loss: 0.3531104326248169\n",
            "Adverasrial(GAN) loss: 1.1643962860107422\n",
            "Step: 9200\n",
            "Discriminator loss: 0.20018787682056427\n",
            "Adverasrial(GAN) loss: 0.010724718682467937\n",
            "Step: 9300\n",
            "Discriminator loss: 0.06506721675395966\n",
            "Adverasrial(GAN) loss: 3.808723340625875e-05\n",
            "Step: 9400\n",
            "Discriminator loss: 0.12140750885009766\n",
            "Adverasrial(GAN) loss: 0.024226346984505653\n",
            "Step: 9500\n",
            "Discriminator loss: 0.2690235376358032\n",
            "Adverasrial(GAN) loss: 0.0052610645070672035\n",
            "Step: 9600\n",
            "Discriminator loss: 0.36860522627830505\n",
            "Adverasrial(GAN) loss: 0.022855393588542938\n",
            "Step: 9700\n",
            "Discriminator loss: 0.21740645170211792\n",
            "Adverasrial(GAN) loss: 3.4994802474975586\n",
            "Step: 9800\n",
            "Discriminator loss: 0.5631647109985352\n",
            "Adverasrial(GAN) loss: 0.08904325217008591\n",
            "Step: 9900\n",
            "Discriminator loss: -0.013048537075519562\n",
            "Adverasrial(GAN) loss: 5.490132934937719e-06\n",
            "Step: 10000\n",
            "Discriminator loss: 0.21999874711036682\n",
            "Adverasrial(GAN) loss: 0.02580886334180832\n",
            "Step: 10100\n",
            "Discriminator loss: 0.36165207624435425\n",
            "Adverasrial(GAN) loss: 0.2843698561191559\n",
            "Step: 10200\n",
            "Discriminator loss: 0.16306477785110474\n",
            "Adverasrial(GAN) loss: 2.1804696714866623e-08\n",
            "Step: 10300\n",
            "Discriminator loss: 0.01130615919828415\n",
            "Adverasrial(GAN) loss: 0.0019424408674240112\n",
            "Step: 10400\n",
            "Discriminator loss: 1.5203999280929565\n",
            "Adverasrial(GAN) loss: 0.5062754154205322\n",
            "Step: 10500\n",
            "Discriminator loss: 0.1796153485774994\n",
            "Adverasrial(GAN) loss: 0.0006741127581335604\n",
            "Step: 10600\n",
            "Discriminator loss: -0.17636287212371826\n",
            "Adverasrial(GAN) loss: 14.454078674316406\n",
            "Step: 10700\n",
            "Discriminator loss: 0.7209709882736206\n",
            "Adverasrial(GAN) loss: 0.37994688749313354\n",
            "Step: 10800\n",
            "Discriminator loss: 0.3803911507129669\n",
            "Adverasrial(GAN) loss: 0.3785407245159149\n",
            "Step: 10900\n",
            "Discriminator loss: 0.7630476355552673\n",
            "Adverasrial(GAN) loss: 0.4622175991535187\n",
            "Step: 11000\n",
            "Discriminator loss: 0.1630001962184906\n",
            "Adverasrial(GAN) loss: 0.7794430255889893\n",
            "Step: 11100\n",
            "Discriminator loss: -0.36766597628593445\n",
            "Adverasrial(GAN) loss: 0.001126411254517734\n",
            "Step: 11200\n",
            "Discriminator loss: 1.821102499961853\n",
            "Adverasrial(GAN) loss: 0.7520615458488464\n",
            "Step: 11300\n",
            "Discriminator loss: 0.3356851041316986\n",
            "Adverasrial(GAN) loss: 2.716325434448663e-05\n",
            "Step: 11400\n",
            "Discriminator loss: 0.17087720334529877\n",
            "Adverasrial(GAN) loss: 0.0043840487487614155\n",
            "Step: 11500\n",
            "Discriminator loss: 0.1471831202507019\n",
            "Adverasrial(GAN) loss: 0.0035842414945364\n",
            "Step: 11600\n",
            "Discriminator loss: 0.0591590590775013\n",
            "Adverasrial(GAN) loss: 3.565769672393799\n",
            "Step: 11700\n",
            "Discriminator loss: 1.0767676830291748\n",
            "Adverasrial(GAN) loss: 0.594552755355835\n",
            "Step: 11800\n",
            "Discriminator loss: 0.9870703220367432\n",
            "Adverasrial(GAN) loss: 0.20020315051078796\n",
            "Step: 11900\n",
            "Discriminator loss: 0.7989324331283569\n",
            "Adverasrial(GAN) loss: 0.8711034655570984\n",
            "Step: 12000\n",
            "Discriminator loss: 0.15200679004192352\n",
            "Adverasrial(GAN) loss: 2.5442819595336914\n",
            "Step: 12100\n",
            "Discriminator loss: 0.36472082138061523\n",
            "Adverasrial(GAN) loss: 0.001865633763372898\n",
            "Step: 12200\n",
            "Discriminator loss: 0.4469446539878845\n",
            "Adverasrial(GAN) loss: 0.039347127079963684\n",
            "Step: 12300\n",
            "Discriminator loss: 0.05614153668284416\n",
            "Adverasrial(GAN) loss: 0.00031605191179551184\n",
            "Step: 12400\n",
            "Discriminator loss: -0.018032196909189224\n",
            "Adverasrial(GAN) loss: 2.3665197801392424e-08\n",
            "Step: 12500\n",
            "Discriminator loss: 0.06069144606590271\n",
            "Adverasrial(GAN) loss: 0.0004363264888525009\n",
            "Step: 12600\n",
            "Discriminator loss: 0.15406286716461182\n",
            "Adverasrial(GAN) loss: 4.041533429699484e-06\n",
            "Step: 12700\n",
            "Discriminator loss: -0.07210971415042877\n",
            "Adverasrial(GAN) loss: 2.3803181647963356e-06\n",
            "Step: 12800\n",
            "Discriminator loss: 0.2262730896472931\n",
            "Adverasrial(GAN) loss: 0.02474689483642578\n",
            "Step: 12900\n",
            "Discriminator loss: 0.6454727053642273\n",
            "Adverasrial(GAN) loss: 0.46395522356033325\n",
            "Step: 13000\n",
            "Discriminator loss: 0.6230049133300781\n",
            "Adverasrial(GAN) loss: 0.11192411184310913\n",
            "Step: 13100\n",
            "Discriminator loss: 0.8417024612426758\n",
            "Adverasrial(GAN) loss: 2.0625076293945312\n",
            "Step: 13200\n",
            "Discriminator loss: 0.22974690794944763\n",
            "Adverasrial(GAN) loss: 1.5249607563018799\n",
            "Step: 13300\n",
            "Discriminator loss: 0.14143863320350647\n",
            "Adverasrial(GAN) loss: 9.582677012076601e-05\n",
            "Step: 13400\n",
            "Discriminator loss: 0.2374330461025238\n",
            "Adverasrial(GAN) loss: 0.009808122180402279\n",
            "Step: 13500\n",
            "Discriminator loss: 0.14619439840316772\n",
            "Adverasrial(GAN) loss: 0.00847553089261055\n",
            "Step: 13600\n",
            "Discriminator loss: 0.16344760358333588\n",
            "Adverasrial(GAN) loss: 0.021170347929000854\n",
            "Step: 13700\n",
            "Discriminator loss: 0.13875028491020203\n",
            "Adverasrial(GAN) loss: 0.002828809432685375\n",
            "Step: 13800\n",
            "Discriminator loss: -0.05001797527074814\n",
            "Adverasrial(GAN) loss: 0.000476792105473578\n",
            "Step: 13900\n",
            "Discriminator loss: -0.2190680205821991\n",
            "Adverasrial(GAN) loss: 9.55898666381836\n",
            "Step: 14000\n",
            "Discriminator loss: 0.6286584138870239\n",
            "Adverasrial(GAN) loss: 0.8740851879119873\n",
            "Step: 14100\n",
            "Discriminator loss: 1.1944328546524048\n",
            "Adverasrial(GAN) loss: 1.5142054557800293\n",
            "Step: 14200\n",
            "Discriminator loss: 0.07505712658166885\n",
            "Adverasrial(GAN) loss: 0.0007538835052400827\n",
            "Step: 14300\n",
            "Discriminator loss: 0.11695604026317596\n",
            "Adverasrial(GAN) loss: 0.0003163190558552742\n",
            "Step: 14400\n",
            "Discriminator loss: 0.6963779926300049\n",
            "Adverasrial(GAN) loss: 0.07926840335130692\n",
            "Step: 14500\n",
            "Discriminator loss: 0.1295989453792572\n",
            "Adverasrial(GAN) loss: 0.07830505073070526\n",
            "Step: 14600\n",
            "Discriminator loss: 0.24190732836723328\n",
            "Adverasrial(GAN) loss: 0.002463545650243759\n",
            "Step: 14700\n",
            "Discriminator loss: 0.12998664379119873\n",
            "Adverasrial(GAN) loss: 0.013345065526664257\n",
            "Step: 14800\n",
            "Discriminator loss: 0.5175959467887878\n",
            "Adverasrial(GAN) loss: 1.6276581287384033\n",
            "Step: 14900\n",
            "Discriminator loss: -0.01873493194580078\n",
            "Adverasrial(GAN) loss: 0.01599934510886669\n",
            "Step: 15000\n",
            "Discriminator loss: 1.11697256565094\n",
            "Adverasrial(GAN) loss: 1.0027191638946533\n",
            "Step: 15100\n",
            "Discriminator loss: 0.2636411488056183\n",
            "Adverasrial(GAN) loss: 2.27144455909729\n",
            "Step: 15200\n",
            "Discriminator loss: 0.44492873549461365\n",
            "Adverasrial(GAN) loss: 1.4558775424957275\n",
            "Step: 15300\n",
            "Discriminator loss: 0.1511712670326233\n",
            "Adverasrial(GAN) loss: 2.063993453979492\n",
            "Step: 15400\n",
            "Discriminator loss: 0.3090755343437195\n",
            "Adverasrial(GAN) loss: 1.2913174629211426\n",
            "Step: 15500\n",
            "Discriminator loss: 0.2932685315608978\n",
            "Adverasrial(GAN) loss: 1.0429599285125732\n",
            "Step: 15600\n",
            "Discriminator loss: 0.4073556661605835\n",
            "Adverasrial(GAN) loss: 1.290950059890747\n",
            "Step: 15700\n",
            "Discriminator loss: 0.643684446811676\n",
            "Adverasrial(GAN) loss: 1.984506607055664\n",
            "Step: 15800\n",
            "Discriminator loss: 0.10235023498535156\n",
            "Adverasrial(GAN) loss: 0.0006996181327849627\n",
            "Step: 15900\n",
            "Discriminator loss: 0.14730961620807648\n",
            "Adverasrial(GAN) loss: 0.020656682550907135\n",
            "Step: 16000\n",
            "Discriminator loss: 0.19928957521915436\n",
            "Adverasrial(GAN) loss: 0.0026463496033102274\n",
            "Step: 16100\n",
            "Discriminator loss: 1.0628920793533325\n",
            "Adverasrial(GAN) loss: 0.004373169504106045\n",
            "Step: 16200\n",
            "Discriminator loss: 0.06558682769536972\n",
            "Adverasrial(GAN) loss: 0.00031985406531021\n",
            "Step: 16300\n",
            "Discriminator loss: 0.01725795865058899\n",
            "Adverasrial(GAN) loss: 0.00016125688853207976\n",
            "Step: 16400\n",
            "Discriminator loss: 0.1709252893924713\n",
            "Adverasrial(GAN) loss: 0.0002600445586722344\n",
            "Step: 16500\n",
            "Discriminator loss: 0.6845369935035706\n",
            "Adverasrial(GAN) loss: 11.758134841918945\n",
            "Step: 16600\n",
            "Discriminator loss: 0.10413821786642075\n",
            "Adverasrial(GAN) loss: 0.043766461312770844\n",
            "Step: 16700\n",
            "Discriminator loss: 0.7026202082633972\n",
            "Adverasrial(GAN) loss: 0.8161402344703674\n",
            "Step: 16800\n",
            "Discriminator loss: 0.2653326988220215\n",
            "Adverasrial(GAN) loss: 0.935233473777771\n",
            "Step: 16900\n",
            "Discriminator loss: 0.6540753841400146\n",
            "Adverasrial(GAN) loss: 0.29057592153549194\n",
            "Step: 17000\n",
            "Discriminator loss: 0.34573841094970703\n",
            "Adverasrial(GAN) loss: 1.6197283267974854\n",
            "Step: 17100\n",
            "Discriminator loss: 0.22632060945034027\n",
            "Adverasrial(GAN) loss: 1.696394443511963\n",
            "Step: 17200\n",
            "Discriminator loss: 0.713071346282959\n",
            "Adverasrial(GAN) loss: 0.6062494516372681\n",
            "Step: 17300\n",
            "Discriminator loss: 0.8780354857444763\n",
            "Adverasrial(GAN) loss: 1.2619744539260864\n",
            "Step: 17400\n",
            "Discriminator loss: 0.07518987357616425\n",
            "Adverasrial(GAN) loss: 9.94204674498178e-05\n",
            "Step: 17500\n",
            "Discriminator loss: -0.00147339329123497\n",
            "Adverasrial(GAN) loss: 1.307332786382176e-05\n",
            "Step: 17600\n",
            "Discriminator loss: 0.5846085548400879\n",
            "Adverasrial(GAN) loss: 1.7909976243972778\n",
            "Step: 17700\n",
            "Discriminator loss: 0.07902003079652786\n",
            "Adverasrial(GAN) loss: 0.056423433125019073\n",
            "Step: 17800\n",
            "Discriminator loss: 0.4577626585960388\n",
            "Adverasrial(GAN) loss: 6.022502020641696e-06\n",
            "Step: 17900\n",
            "Discriminator loss: 1.1916756629943848\n",
            "Adverasrial(GAN) loss: 4.048912048339844\n",
            "Step: 18000\n",
            "Discriminator loss: 1.3114054203033447\n",
            "Adverasrial(GAN) loss: 2.8826956748962402\n",
            "Step: 18100\n",
            "Discriminator loss: 0.10279017686843872\n",
            "Adverasrial(GAN) loss: 3.6314358711242676\n",
            "Step: 18200\n",
            "Discriminator loss: 0.2585054337978363\n",
            "Adverasrial(GAN) loss: 6.064150966267334e-06\n",
            "Step: 18300\n",
            "Discriminator loss: 0.7608381509780884\n",
            "Adverasrial(GAN) loss: 1.2276114225387573\n",
            "Step: 18400\n",
            "Discriminator loss: 0.23087839782238007\n",
            "Adverasrial(GAN) loss: 2.501098394393921\n",
            "Step: 18500\n",
            "Discriminator loss: 0.2310706228017807\n",
            "Adverasrial(GAN) loss: 2.5331415599794127e-05\n",
            "Step: 18600\n",
            "Discriminator loss: 0.1003611758351326\n",
            "Adverasrial(GAN) loss: 0.003525718580931425\n",
            "Step: 18700\n",
            "Discriminator loss: 0.029993899166584015\n",
            "Adverasrial(GAN) loss: 0.01626977138221264\n",
            "Step: 18800\n",
            "Discriminator loss: 0.7733498811721802\n",
            "Adverasrial(GAN) loss: 0.21728041768074036\n",
            "Step: 18900\n",
            "Discriminator loss: 0.07890091836452484\n",
            "Adverasrial(GAN) loss: 0.16313038766384125\n",
            "Step: 19000\n",
            "Discriminator loss: 0.6480283141136169\n",
            "Adverasrial(GAN) loss: 0.10438357293605804\n",
            "Step: 19100\n",
            "Discriminator loss: 0.017847955226898193\n",
            "Adverasrial(GAN) loss: 0.00519941933453083\n",
            "Step: 19200\n",
            "Discriminator loss: 0.13159357011318207\n",
            "Adverasrial(GAN) loss: 0.0014687139773741364\n",
            "Step: 19300\n",
            "Discriminator loss: 0.0973745808005333\n",
            "Adverasrial(GAN) loss: 0.012012508697807789\n",
            "Step: 19400\n",
            "Discriminator loss: 0.41925913095474243\n",
            "Adverasrial(GAN) loss: 2.488898515701294\n",
            "Step: 19500\n",
            "Discriminator loss: 1.3529651165008545\n",
            "Adverasrial(GAN) loss: 1.3472247123718262\n",
            "Step: 19600\n",
            "Discriminator loss: 0.49848318099975586\n",
            "Adverasrial(GAN) loss: 0.29813241958618164\n",
            "Step: 19700\n",
            "Discriminator loss: 0.09295403212308884\n",
            "Adverasrial(GAN) loss: 0.056704483926296234\n",
            "Step: 19800\n",
            "Discriminator loss: 0.3120455741882324\n",
            "Adverasrial(GAN) loss: 0.21566757559776306\n",
            "Step: 19900\n",
            "Discriminator loss: 0.3055119514465332\n",
            "Adverasrial(GAN) loss: 0.013022438623011112\n",
            "Step: 20000\n",
            "Discriminator loss: 0.3279181718826294\n",
            "Adverasrial(GAN) loss: 0.2566491961479187\n",
            "Step: 20100\n",
            "Discriminator loss: 0.11417552828788757\n",
            "Adverasrial(GAN) loss: 0.0038657444529235363\n",
            "Step: 20200\n",
            "Discriminator loss: 0.8531794548034668\n",
            "Adverasrial(GAN) loss: 9.270191192626953\n"
          ]
        }
      ],
      "source": [
        "### Train Model\n",
        "train_gan(D,\n",
        "          G,\n",
        "          gan,\n",
        "          X_train,\n",
        "          iter,\n",
        "          batch_size=batch_size,\n",
        "          save_weights=True,\n",
        "          save_dir=save_dir)"
      ]
    },
    {
      "cell_type": "code",
      "execution_count": null,
      "metadata": {
        "colab": {
          "base_uri": "https://localhost:8080/"
        },
        "id": "0C2wholCnG1z",
        "outputId": "047c703d-198d-4d3e-86f1-d63f69104bd2"
      },
      "outputs": [
        {
          "name": "stdout",
          "output_type": "stream",
          "text": [
            "WARNING:tensorflow:Compiled the loaded model, but the compiled metrics have yet to be built. `model.compile_metrics` will be empty until you train or evaluate the model.\n"
          ]
        }
      ],
      "source": [
        "### Save Model\n",
        "D.save(os.path.join(model_version_dir, 'Discriminator_v10.h5'))\n",
        "G.save(os.path.join(model_version_dir, 'Generator_v10.h5'))\n",
        "gan.save(os.path.join(model_version_dir, 'GAN_v10.h5'))"
      ]
    },
    {
      "cell_type": "markdown",
      "metadata": {
        "id": "dW2I_VR0xDsF"
      },
      "source": [
        "# **ECGAN_V1**"
      ]
    },
    {
      "cell_type": "markdown",
      "metadata": {
        "id": "v3EIO3jh__s3"
      },
      "source": [
        "**결과 : 대부분 학습이 안된 이미지, 하얀색 이미지이다.**"
      ]
    },
    {
      "cell_type": "markdown",
      "metadata": {
        "id": "ZywPzyG-ydah"
      },
      "source": [
        "\n",
        "**Hyperparameters 목록**\n",
        "\n",
        "**latent_dim : 100 바꾸지 않을 예정** \n",
        "\n",
        "**Discriminator : LeakyReLU(0.2), Learning Rate(0.001), cilpvalue나 decay는 바꾸지 않기**\n",
        "\n",
        "**gan_bild : Learning Rate(0.001)**\n",
        "\n",
        "**논문에서 학습률이 너무 크면 Learning Rate를 낮추라고 나와있었는데 퍼스트 옵션으로 써져있는 0.001을 사용하니까 Loss가 미쳐 날뛴다. 학습이 거의 안되는 중....**\n",
        "\n",
        "**이미지가 한 종류가 아니라 다양한 종류라서 더 그런것 같다.**\n",
        "\n",
        "**일단은 학습률을 낮춰서 다시 학습하는 것이 우선이다.**\n",
        "\n",
        "**낮춰도 안되면 이미지를 조금 수정할 필요가 있다.**"
      ]
    },
    {
      "cell_type": "markdown",
      "metadata": {
        "id": "oGJnGauwBQd5"
      },
      "source": [
        "# ECGAN_v2"
      ]
    },
    {
      "cell_type": "markdown",
      "metadata": {
        "id": "sJfNF55sBSk2"
      },
      "source": [
        "**Hyperparameters 수정**\n",
        "\n",
        "**Discriminator의 Learning Rate : 0.001 -> 0.0002**\n",
        "\n",
        "**Generator의 Learing Rate은 그대로 0.001**\n",
        "\n",
        "**전보다는 조금 더 형태가 잡힌 이미지들이 생겼지만 여전히 하얀색 바탕만 가진 이미지가 많다.**"
      ]
    },
    {
      "cell_type": "markdown",
      "metadata": {
        "id": "NL49oa3DwAhs"
      },
      "source": [
        "# ECGAN_v3"
      ]
    },
    {
      "cell_type": "markdown",
      "metadata": {
        "id": "Fm8KtQM7wCc1"
      },
      "source": [
        "**Hyperparamters 수정**\n",
        "\n",
        "**학습률을 참고한 Github과 동일하게 학습을 시켜주었다.**\n",
        "\n",
        "**iter = 50000, lr_d = 0.00002, lr_g = 0.0008**\n",
        "\n",
        "**이것도 학습이 잘 안되면 Face 이미지만 긁어와서 학습시켜야 할 것 같다.**\n",
        "\n",
        "**학습하던 중간에 GPU 연결이 끊겨버려서 더 이상 진행 못 함. 이미지를 보니 처음에는 잘 학습하다가 다시 학습이 안되는 부분 발생**"
      ]
    },
    {
      "cell_type": "markdown",
      "metadata": {
        "id": "LN0dyogDDLW1"
      },
      "source": [
        "# ECGAN_v4"
      ]
    },
    {
      "cell_type": "markdown",
      "metadata": {
        "id": "-qCPfNgnDOy5"
      },
      "source": [
        "ECGAN_v3 중간에 학습이 끊겼으므로 같은 Hyperparameters로 학습을 진행한다."
      ]
    },
    {
      "cell_type": "markdown",
      "metadata": {
        "id": "uXwdVrL1rhC-"
      },
      "source": [
        "# ECGAN_v5"
      ]
    },
    {
      "cell_type": "markdown",
      "metadata": {
        "id": "Hdg6ZTJWri1z"
      },
      "source": [
        "Hyperparameters는 기존의 v4와 동일하게 진행했고 batch_size만 16에서 8로 줄였더니 오히려 loss가 불안정해졌짐\n",
        "\n",
        "1000번 정도에서 중단함"
      ]
    },
    {
      "cell_type": "markdown",
      "metadata": {
        "id": "ugQ_s_c-ryoE"
      },
      "source": [
        "# ECGAN_v6 ~ v9"
      ]
    },
    {
      "cell_type": "markdown",
      "metadata": {
        "id": "8Vi8rsaisDTv"
      },
      "source": [
        "Hyperparameter를 조정했지만 효과는 없었다."
      ]
    },
    {
      "cell_type": "markdown",
      "metadata": {
        "id": "I6_yt6q84v5P"
      },
      "source": [
        "## ECGAN_v8"
      ]
    },
    {
      "cell_type": "markdown",
      "metadata": {
        "id": "oT6DuYOQ4x9A"
      },
      "source": [
        "데이터의 양이 부족해서 학습이 잘 이루어지지 않은 것 같다..\n",
        "\n",
        "양이 5천개만 되었어도 어이없는 결과는 보여주지않았다...\n",
        "\n",
        "Discriminator을 조금 줄여 주고 학습을 했더니 만 번의 학습 중에서 6000번이 넘어가게 되면 loss가 다시 불안정해지는 모습을 보였다. 근데 또 어쩌다가도 다시 안정되는 모습을 보이기도 하고..."
      ]
    },
    {
      "cell_type": "markdown",
      "metadata": {
        "id": "2IP4Xw0mxLi8"
      },
      "source": [
        "# ECGAN_v10"
      ]
    },
    {
      "cell_type": "markdown",
      "metadata": {
        "id": "K_CMN7yUxOeP"
      },
      "source": [
        "Optimizer를 Adam에서 RMSprop로 수정하였더니 학습이 훨씬 잘 되었다...\n",
        "\n",
        "이후에는 Hyperparameter와 Generator, Discriminator을 수정하면서 학습을 진행해야겠다."
      ]
    },
    {
      "cell_type": "markdown",
      "metadata": {
        "id": "K29coOD6vZvy"
      },
      "source": [
        "# 이미지 생성을 통한 시각화"
      ]
    },
    {
      "cell_type": "markdown",
      "metadata": {
        "id": "rARfWeDc5VYe"
      },
      "source": [
        "* gif 이미지 만들기"
      ]
    },
    {
      "cell_type": "code",
      "execution_count": null,
      "metadata": {
        "id": "FitJeBjWlbWl"
      },
      "outputs": [],
      "source": [
        "import imageio\n",
        "anim_file = 'dcgan.gif'\n",
        "\n",
        "with imageio.get_writer(anim_file, mode='I') as writer:\n",
        "    filenames = glob.glob('/content/drive/MyDrive/ECGAN_Project/images_data/Version11/*.png')\n",
        "    filenames = sorted(filenames)\n",
        "    last = -1\n",
        "    \n",
        "    for i,filename in enumerate(filenames):\n",
        "        frame = 2*(i**0.5)\n",
        "        if round(frame) > round(last):\n",
        "            last = frame\n",
        "        else:\n",
        "            continue\n",
        "    \n",
        "        image = imageio.imread(filename)\n",
        "        writer.append_data(image)\n",
        "    \n",
        "    image = imageio.imread(filename)\n",
        "    writer.append_data(image)"
      ]
    },
    {
      "cell_type": "code",
      "execution_count": null,
      "metadata": {
        "id": "QBLVM3pElcmK"
      },
      "outputs": [],
      "source": [
        "import IPython\n",
        "if IPython.version_info > (6,2,0,''):\n",
        "  display.Image(filename=anim_file)"
      ]
    },
    {
      "cell_type": "code",
      "execution_count": null,
      "metadata": {
        "colab": {
          "base_uri": "https://localhost:8080/",
          "height": 34
        },
        "id": "mVph6THJlc8u",
        "outputId": "08ba50eb-3d91-419a-a293-9ab48f3af27f"
      },
      "outputs": [
        {
          "data": {
            "application/javascript": "\n    async function download(id, filename, size) {\n      if (!google.colab.kernel.accessAllowed) {\n        return;\n      }\n      const div = document.createElement('div');\n      const label = document.createElement('label');\n      label.textContent = `Downloading \"${filename}\": `;\n      div.appendChild(label);\n      const progress = document.createElement('progress');\n      progress.max = size;\n      div.appendChild(progress);\n      document.body.appendChild(div);\n\n      const buffers = [];\n      let downloaded = 0;\n\n      const channel = await google.colab.kernel.comms.open(id);\n      // Send a message to notify the kernel that we're ready.\n      channel.send({})\n\n      for await (const message of channel.messages) {\n        // Send a message to notify the kernel that we're ready.\n        channel.send({})\n        if (message.buffers) {\n          for (const buffer of message.buffers) {\n            buffers.push(buffer);\n            downloaded += buffer.byteLength;\n            progress.value = downloaded;\n          }\n        }\n      }\n      const blob = new Blob(buffers, {type: 'application/binary'});\n      const a = document.createElement('a');\n      a.href = window.URL.createObjectURL(blob);\n      a.download = filename;\n      div.appendChild(a);\n      a.click();\n      div.remove();\n    }\n  ",
            "text/plain": [
              "<IPython.core.display.Javascript object>"
            ]
          },
          "metadata": {},
          "output_type": "display_data"
        },
        {
          "data": {
            "application/javascript": "download(\"download_6fc9e5f5-c6c1-4bcf-9ed4-26fa089ae740\", \"dcgan.gif\", 75854)",
            "text/plain": [
              "<IPython.core.display.Javascript object>"
            ]
          },
          "metadata": {},
          "output_type": "display_data"
        }
      ],
      "source": [
        "try:\n",
        "    from google.colab import files\n",
        "except ImportError:\n",
        "    pass\n",
        "else:\n",
        "    files.download(anim_file)"
      ]
    },
    {
      "cell_type": "markdown",
      "metadata": {
        "id": "Qlnoj2hdG7DR"
      },
      "source": [
        "* 잠재 공간에서 랜덤한 포인트를 샘플링"
      ]
    },
    {
      "cell_type": "code",
      "execution_count": null,
      "metadata": {
        "id": "f7QX4lWIvcZk"
      },
      "outputs": [],
      "source": [
        "random_latent_vectors = np.random.normal(size=(10, latent_dim))"
      ]
    },
    {
      "cell_type": "markdown",
      "metadata": {
        "id": "Bzq4G7U2G90j"
      },
      "source": [
        "* 가짜 이미지를 디코딩"
      ]
    },
    {
      "cell_type": "code",
      "execution_count": null,
      "metadata": {
        "id": "IxaNbpFKyqSK"
      },
      "outputs": [],
      "source": [
        "gererated_imgs = G.predict(random_latent_vectors)"
      ]
    },
    {
      "cell_type": "code",
      "execution_count": null,
      "metadata": {
        "colab": {
          "base_uri": "https://localhost:8080/"
        },
        "id": "TDO3NE3sHHBJ",
        "outputId": "6b88a132-c73f-4e0c-b5f4-5cac44c6e0a3"
      },
      "outputs": [
        {
          "name": "stdout",
          "output_type": "stream",
          "text": [
            "(10, 64, 64, 3)\n"
          ]
        }
      ],
      "source": [
        "print(gererated_imgs.shape)"
      ]
    },
    {
      "cell_type": "markdown",
      "metadata": {
        "id": "G8jQvuOgIFCd"
      },
      "source": [
        "* 시각화 결과, 현재 RMSprop로 돌리고 있는 Generator로 시각화한 결과가 아니라 Adam으로 돌린 Generator로 시각화한 결과입니다. 추후에 학습이 끝나면 업데이트 하겠습니다."
      ]
    },
    {
      "cell_type": "code",
      "execution_count": null,
      "metadata": {
        "colab": {
          "base_uri": "https://localhost:8080/",
          "height": 464
        },
        "id": "I71FL-UtHKXP",
        "outputId": "a83ef813-a460-4dc2-e811-d860ed97f736"
      },
      "outputs": [
        {
          "data": {
            "image/png": "[encoded data removed]",
            "text/plain": [
              "<Figure size 1440x576 with 10 Axes>"
            ]
          },
          "metadata": {},
          "output_type": "display_data"
        }
      ],
      "source": [
        "plt.figure(figsize=(20, 8))\n",
        "for i in range(gererated_imgs.shape[0]):\n",
        "  plt.subplot(2, 5, i+1)\n",
        "  img = image.array_to_img(gererated_imgs[i] * 255, scale=False)\n",
        "  plt.imshow(img)\n",
        "  plt.xticks([])\n",
        "  plt.yticks([])\n",
        "\n",
        "plt.show()"
      ]
    }
  ],
  "metadata": {
    "accelerator": "GPU",
    "colab": {
      "name": "AI08_김태범_Section4_EC_Project.ipynb",
      "provenance": []
    },
    "kernelspec": {
      "display_name": "Python 3",
      "name": "python3"
    },
    "language_info": {
      "name": "python"
    }
  },
  "nbformat": 4,
  "nbformat_minor": 0
}
